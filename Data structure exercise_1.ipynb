{
 "cells": [
  {
   "cell_type": "markdown",
   "id": "4a8a754a",
   "metadata": {},
   "source": [
    "            Exercise 1\n",
    "In mathematics, the quadratic equation ax2+bx+c=0 can be solved with the formula x=−b±b2−4ac√2a.\n",
    "\n",
    "Write a function solve_quadratic, that returns both solutions of a generic quadratic as a pair (2-tuple) when the coefficients are given as parameters. It should work like this:"
   ]
  },
  {
   "cell_type": "code",
   "execution_count": 44,
   "id": "5d3c0cc5",
   "metadata": {},
   "outputs": [
    {
     "name": "stdout",
     "output_type": "stream",
     "text": [
      "(2.0, 1.0)\n",
      "(-1.0, -1.0)\n"
     ]
    }
   ],
   "source": [
    "from math import sqrt\n",
    "import math \n",
    "def solve_quadratic(a,b,c):\n",
    "        x1 = (-b+math.sqrt(b**2-4*a*c))/2*a\n",
    "        x2 = (-b-math.sqrt(b**2-4*a*c))/2*a\n",
    "        return x1,x2\n",
    "print(solve_quadratic(1, -3,2))\n",
    "print(solve_quadratic(1, 2,1))"
   ]
  },
  {
   "cell_type": "markdown",
   "id": "3dd1629a",
   "metadata": {},
   "source": [
    "        Exercise 2\n",
    "Get a space-separated list of integers from the user, create a tuple of those integers. Then compute and print the result of hash(tuple).\n",
    "\n"
   ]
  },
  {
   "cell_type": "code",
   "execution_count": null,
   "id": "b2878f89",
   "metadata": {},
   "outputs": [],
   "source": [
    "x=a,b, c, d=input().split() #this will print several values of which are list and then convert \n",
    "tup=tuple(x)  #why is this printing comma seprated \n",
    "#y = list(map(int, input().split())) #use the map function to interate through numbers\n",
    "\n",
    "type(x)\n",
    "x=tuple(y)\n",
    "print(tup)"
   ]
  },
  {
   "cell_type": "markdown",
   "id": "4e235a42",
   "metadata": {},
   "source": [
    "        Exercise 3\n",
    "Take the following two lists. Create a third list by picking a odd-index elements from the first list and even-index elements from the second.\n",
    "\n",
    "listOne = [3, 6, 9, 12, 15, 18, 21]\n",
    "listTwo = [4, 8, 12, 16, 20, 24, 28]"
   ]
  },
  {
   "cell_type": "code",
   "execution_count": 23,
   "id": "6bdd76ac",
   "metadata": {},
   "outputs": [
    {
     "name": "stdout",
     "output_type": "stream",
     "text": [
      "[4, 12, 20, 28]\n",
      "[6, 12, 18]\n",
      "[6, 12, 18, 4, 12, 20, 28]\n"
     ]
    }
   ],
   "source": [
    "listOne =[3, 6, 9, 12, 15, 18, 21] \n",
    "listTwo=[4, 8, 12, 16, 20, 24, 28]\n",
    "listThree=listOne[1::2]+listTwo[::2]\n",
    "print(listTwo[::2])\n",
    "print(listOne[1::2])\n",
    "#for i in listOne:\n",
    "   # if i%2==0:\n",
    "       # listThree.append(i)\n",
    "#for i in listTwo:\n",
    "    #if i%3==0:\n",
    "       # listThree.append(i)\n",
    "        \n",
    "#print(listThree)\n",
    "print(listThree)"
   ]
  },
  {
   "cell_type": "markdown",
   "id": "d839de2a",
   "metadata": {},
   "source": [
    "Take the following list. Slice it into three equal chunks and reverse each list.\n",
    "\n",
    "sampleList = [11, 45, 8, 23, 14, 12, 78, 45, 89]"
   ]
  },
  {
   "cell_type": "code",
   "execution_count": 53,
   "id": "64f5f9e8",
   "metadata": {},
   "outputs": [
    {
     "name": "stdout",
     "output_type": "stream",
     "text": [
      "Original list  [11, 45, 8, 23, 14, 12, 78, 45, 89]\n",
      "[8, 45, 11] [12, 14, 23] [89, 45, 78]\n",
      "[8, 45, 11]\n",
      "0 [11, 45, 8]\n",
      "1 [11, 45, 8]\n",
      "2 [11, 45, 8]\n"
     ]
    }
   ],
   "source": [
    "sample_list = [11, 45, 8, 23, 14, 12, 78, 45, 89]\n",
    "print(\"Original list \", sample_list)\n",
    "\n",
    "L1=sample_list[0:3] #slcing list 1\n",
    "L2=sample_list[3:6] #slcing list 2\n",
    "L3=sample_list[6:9] #slicing list3\n",
    "L1.reverse()\n",
    "L2.reverse()\n",
    "L3.reverse()\n",
    "print(L1, L2, L3)\n"
   ]
  },
  {
   "cell_type": "markdown",
   "id": "2bbdd559",
   "metadata": {},
   "source": [
    "        Exercise 5\n",
    "Iterate through a given list and check if a given element already exists in a dictionary as a key’s value. If not, delete it from the list.\n",
    "\n",
    "rollNumber = [47, 64, 69, 37, 76, 83, 95, 97]\n",
    "sampleDict ={'Zach':47, 'Emma':69, 'Kelly':76, 'Jason':97}"
   ]
  },
  {
   "cell_type": "code",
   "execution_count": 28,
   "id": "d16a94d1",
   "metadata": {},
   "outputs": [
    {
     "name": "stdout",
     "output_type": "stream",
     "text": [
      "[47, 69, 76, 95, 97]\n"
     ]
    }
   ],
   "source": [
    "rollNumber = [47, 64, 69, 37, 76, 83, 95, 97] \n",
    "sampleDict ={'Zach':47, 'Emma':69, 'Kelly':76, 'Jason':97}\n",
    "\n",
    "for i in rollNumber:\n",
    "    if not i in sampleDict.values():\n",
    "        rollNumber.remove(i)\n",
    "    else:\n",
    "        continue\n",
    "print(rollNumber)\n"
   ]
  },
  {
   "cell_type": "code",
   "execution_count": 8,
   "id": "a0986cd2",
   "metadata": {},
   "outputs": [
    {
     "data": {
      "text/plain": [
       "['2', '5', '0', '1', '0', '0']"
      ]
     },
     "execution_count": 8,
     "metadata": {},
     "output_type": "execute_result"
    }
   ],
   "source": [
    "import re\n",
    "text='2 times 50 equals 100'\n",
    "pattern=re.compile('\\d')\n",
    "pattern.findall(text)"
   ]
  },
  {
   "cell_type": "code",
   "execution_count": null,
   "id": "84396fee",
   "metadata": {},
   "outputs": [],
   "source": []
  },
  {
   "cell_type": "code",
   "execution_count": null,
   "id": "70c0b5e6",
   "metadata": {},
   "outputs": [],
   "source": []
  }
 ],
 "metadata": {
  "kernelspec": {
   "display_name": "Python 3 (ipykernel)",
   "language": "python",
   "name": "python3"
  },
  "language_info": {
   "codemirror_mode": {
    "name": "ipython",
    "version": 3
   },
   "file_extension": ".py",
   "mimetype": "text/x-python",
   "name": "python",
   "nbconvert_exporter": "python",
   "pygments_lexer": "ipython3",
   "version": "3.8.8"
  }
 },
 "nbformat": 4,
 "nbformat_minor": 5
}
