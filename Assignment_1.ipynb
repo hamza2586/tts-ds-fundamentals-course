{
 "cells": [
  {
   "cell_type": "markdown",
   "id": "32a5a0bc",
   "metadata": {},
   "source": [
    "### 1. Accept the user's first and last name and print them in reverse order with a space between them"
   ]
  },
  {
   "cell_type": "code",
   "execution_count": null,
   "id": "a1e58f96",
   "metadata": {},
   "outputs": [],
   "source": [
    "first_name=input('first_name :')\n",
    "last_name=input('last_name :')\n",
    "print(first_name) #printing last name\n",
    "print(last_name)"
   ]
  },
  {
   "cell_type": "code",
   "execution_count": 1,
   "id": "b8a6e176",
   "metadata": {},
   "outputs": [
    {
     "ename": "NameError",
     "evalue": "name 'last_name' is not defined",
     "output_type": "error",
     "traceback": [
      "\u001b[1;31m---------------------------------------------------------------------------\u001b[0m",
      "\u001b[1;31mNameError\u001b[0m                                 Traceback (most recent call last)",
      "\u001b[1;32m<ipython-input-1-a83ac763fec3>\u001b[0m in \u001b[0;36m<module>\u001b[1;34m\u001b[0m\n\u001b[1;32m----> 1\u001b[1;33m \u001b[0mprint\u001b[0m\u001b[1;33m(\u001b[0m\u001b[0mlast_name\u001b[0m\u001b[1;33m,\u001b[0m \u001b[0mfirst_name\u001b[0m\u001b[1;33m)\u001b[0m\u001b[1;33m\u001b[0m\u001b[1;33m\u001b[0m\u001b[0m\n\u001b[0m",
      "\u001b[1;31mNameError\u001b[0m: name 'last_name' is not defined"
     ]
    }
   ],
   "source": [
    "print(last_name, first_name)"
   ]
  },
  {
   "cell_type": "markdown",
   "id": "fd404911",
   "metadata": {},
   "source": [
    "### 2. Accept an integer (n) input from the user and compute the value of n+nn+nnn. For example if n=4 then n + nn + nnn = 4 + 44 + 444 = 492\n"
   ]
  },
  {
   "cell_type": "code",
   "execution_count": null,
   "id": "066fd908",
   "metadata": {},
   "outputs": [],
   "source": [
    "a=int(input('please input n: '))\n",
    "n1 = int( \"%s\" % a )\n",
    "n2 = int( \"%s%s\" % (a,a) )\n",
    "n3 = int( \"%s%s%s\" % (a,a,a) )\n",
    "print (n1+n2+n3)\n"
   ]
  },
  {
   "cell_type": "markdown",
   "id": "4b7ddeea",
   "metadata": {},
   "source": [
    "### 3.Ask the user \"What country are you from?\" then print the following statement: \"I have heard that [input] is a beautiful country!\"\n"
   ]
  },
  {
   "cell_type": "code",
   "execution_count": null,
   "id": "3938e49f",
   "metadata": {},
   "outputs": [],
   "source": [
    "country=input(\"what country are you from: \")\n",
    "print('i have heard', country, 'is beautiful country')"
   ]
  },
  {
   "cell_type": "markdown",
   "id": "43a35f59",
   "metadata": {},
   "source": [
    "### 4. What is the output of the following Python code \n",
    "(x = 10\n",
    "y = 50\n",
    "if (x ** 2 > 100 and y < 100):\n",
    "    print(x, y)\n",
    "\n",
    "\n"
   ]
  },
  {
   "cell_type": "code",
   "execution_count": null,
   "id": "571bcae2",
   "metadata": {},
   "outputs": [],
   "source": [
    "# this code doesn't output anything becuase x is not greater than 100"
   ]
  },
  {
   "cell_type": "markdown",
   "id": "a4cfabd2",
   "metadata": {},
   "source": [
    "### 5. What is the output of the following addition (+) operator, and why does this code chunk execute this way?\n",
    "a=[10, 20]\n",
    "b = a\n",
    "b += [30, 40]\n",
    "print(a)\n",
    "print(b)"
   ]
  },
  {
   "cell_type": "code",
   "execution_count": 27,
   "id": "0d7ecf55",
   "metadata": {},
   "outputs": [
    {
     "name": "stdout",
     "output_type": "stream",
     "text": [
      "[10, 20, 30, 40]\n"
     ]
    }
   ],
   "source": [
    "a=[10, 20]\n",
    "b=a\n",
    "b+=[30,40]\n",
    "\n",
    "#this executes this way because b=a[10,20] and we are adding [30, 40]"
   ]
  },
  {
   "cell_type": "markdown",
   "id": "03654f96",
   "metadata": {},
   "source": [
    "### 6. What is the output of the following code and what arithmetic operators is being used here? print(2%6)"
   ]
  },
  {
   "cell_type": "code",
   "execution_count": 28,
   "id": "5081a224",
   "metadata": {},
   "outputs": [
    {
     "name": "stdout",
     "output_type": "stream",
     "text": [
      "2\n"
     ]
    }
   ],
   "source": [
    "print(2%6)\n",
    "#arithimetic used is modulo and it prints 2"
   ]
  },
  {
   "cell_type": "markdown",
   "id": "9803b5ec",
   "metadata": {},
   "source": [
    "### 7. What is the output of the following code and what arithmetic operators are used here? print(2 * 3 ** 3 * 4)"
   ]
  },
  {
   "cell_type": "code",
   "execution_count": 30,
   "id": "e31c96de",
   "metadata": {},
   "outputs": [
    {
     "name": "stdout",
     "output_type": "stream",
     "text": [
      "216\n"
     ]
    }
   ],
   "source": [
    "#arithmetic used is time and square\n",
    "print(2 * 3 ** 3 * 4)"
   ]
  },
  {
   "cell_type": "markdown",
   "id": "a4a85660",
   "metadata": {},
   "source": [
    "### 8. What is a text editor?"
   ]
  },
  {
   "cell_type": "code",
   "execution_count": null,
   "id": "fab555da",
   "metadata": {},
   "outputs": [],
   "source": [
    "#A text editor is a program that saves your files without formatting"
   ]
  },
  {
   "cell_type": "markdown",
   "id": "370b8848",
   "metadata": {},
   "source": [
    "### What is python?"
   ]
  },
  {
   "cell_type": "code",
   "execution_count": null,
   "id": "26606d9a",
   "metadata": {},
   "outputs": [],
   "source": [
    "#programming language"
   ]
  },
  {
   "cell_type": "markdown",
   "id": "b505c49b",
   "metadata": {},
   "source": [
    "### What is jupyter notebook, what type of python environment is it, and what alternatives are there to jupyter notebook?\n"
   ]
  },
  {
   "cell_type": "code",
   "execution_count": 7,
   "id": "85349514",
   "metadata": {},
   "outputs": [],
   "source": [
    "#Project Jupyter is a community run project with a goal to \"develop open-source software\n",
    "# 1. Visual Studio Code\n",
    "# 2.  nteract\n",
    "# 3. Jupyterlite\n",
    "#4.  Google Colaboratory"
   ]
  },
  {
   "cell_type": "code",
   "execution_count": 11,
   "id": "37f788d6",
   "metadata": {},
   "outputs": [
    {
     "name": "stdout",
     "output_type": "stream",
     "text": [
      "34\n",
      "13\n"
     ]
    }
   ],
   "source": [
    "s='1234'\n",
    "print(s[2:4])\n",
    "print(s[:4:2])"
   ]
  },
  {
   "cell_type": "code",
   "execution_count": 12,
   "id": "104b908a",
   "metadata": {},
   "outputs": [],
   "source": [
    "L=[11, 13, 22, 32]\n",
    "L[2]=10"
   ]
  },
  {
   "cell_type": "code",
   "execution_count": 13,
   "id": "a7ddc572",
   "metadata": {},
   "outputs": [
    {
     "name": "stdout",
     "output_type": "stream",
     "text": [
      "[11, 13, 10, 32]\n"
     ]
    }
   ],
   "source": [
    "print(L)"
   ]
  },
  {
   "cell_type": "code",
   "execution_count": 14,
   "id": "32cc66a4",
   "metadata": {},
   "outputs": [],
   "source": [
    "L.append(8)"
   ]
  },
  {
   "cell_type": "code",
   "execution_count": 15,
   "id": "5b1cd993",
   "metadata": {},
   "outputs": [
    {
     "name": "stdout",
     "output_type": "stream",
     "text": [
      "[11, 13, 10, 32, 8]\n"
     ]
    }
   ],
   "source": [
    "print(L)"
   ]
  },
  {
   "cell_type": "code",
   "execution_count": 16,
   "id": "caa37f26",
   "metadata": {},
   "outputs": [
    {
     "name": "stdout",
     "output_type": "stream",
     "text": [
      "[11, 13, 10, 32, 8, 4]\n",
      "[11, 13, 10, 32, 8, 4, 4]\n",
      "[11, 13, 10, 32, 8, 4, 4, 4]\n",
      "[11, 13, 10, 32, 8, 4, 4, 4, 4]\n",
      "[11, 13, 10, 32, 8, 4, 4, 4, 4, 4]\n",
      "[11, 13, 10, 32, 8, 4, 4, 4, 4, 4, 4]\n",
      "[11, 13, 10, 32, 8, 4, 4, 4, 4, 4, 4, 4]\n",
      "[11, 13, 10, 32, 8, 4, 4, 4, 4, 4, 4, 4, 4]\n",
      "[11, 13, 10, 32, 8, 4, 4, 4, 4, 4, 4, 4, 4, 4]\n",
      "[11, 13, 10, 32, 8, 4, 4, 4, 4, 4, 4, 4, 4, 4, 4]\n"
     ]
    }
   ],
   "source": [
    "for i in range(10):\n",
    "    L.append(n)\n",
    "    print(L)"
   ]
  },
  {
   "cell_type": "code",
   "execution_count": 19,
   "id": "93d5e97b",
   "metadata": {},
   "outputs": [
    {
     "name": "stdout",
     "output_type": "stream",
     "text": [
      "[0, 1, 2]\n"
     ]
    }
   ],
   "source": [
    "a=range(3)\n",
    "print(list(a))"
   ]
  },
  {
   "cell_type": "code",
   "execution_count": 26,
   "id": "25526896",
   "metadata": {},
   "outputs": [
    {
     "name": "stdout",
     "output_type": "stream",
     "text": [
      "8\n"
     ]
    }
   ],
   "source": [
    "\n",
    "L=[1,2,98,5,-1,2,0,5,10]\n",
    "counter = 0\n",
    "for i, x in enumerate(L):\n",
    "    if x == 5:\n",
    "        counter += 1\n",
    "        if counter == 3:\n",
    "            break\n",
    "            \n",
    "print(i)"
   ]
  },
  {
   "cell_type": "code",
   "execution_count": null,
   "id": "8e4c1624",
   "metadata": {},
   "outputs": [],
   "source": []
  }
 ],
 "metadata": {
  "kernelspec": {
   "display_name": "Python 3",
   "language": "python",
   "name": "python3"
  },
  "language_info": {
   "codemirror_mode": {
    "name": "ipython",
    "version": 3
   },
   "file_extension": ".py",
   "mimetype": "text/x-python",
   "name": "python",
   "nbconvert_exporter": "python",
   "pygments_lexer": "ipython3",
   "version": "3.8.8"
  }
 },
 "nbformat": 4,
 "nbformat_minor": 5
}
