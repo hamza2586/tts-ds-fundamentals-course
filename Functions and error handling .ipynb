{
 "cells": [
  {
   "cell_type": "code",
   "execution_count": null,
   "id": "c957c90f",
   "metadata": {},
   "outputs": [],
   "source": [
    "def is_leap(year):\n",
    "    leap = False\n",
    "    \n",
    "    # Write your logic here\n",
    "    if year % 400 == 0:\n",
    "        leap = True\n",
    "    elif year % 100 == 0:\n",
    "        leap = False\n",
    "    elif year % 4 == 0:\n",
    "        leap = True\n",
    "    \n",
    "    return leap\n",
    "    \n",
    "year = int(input())\n",
    "print(is_leap(year))"
   ]
  },
  {
   "cell_type": "code",
   "execution_count": null,
   "id": "31dd8a34",
   "metadata": {},
   "outputs": [],
   "source": [
    "x = int(input('input x'));\n",
    "for i in range(x):\n",
    "    try:\n",
    "        a, b = input('input A, b').split()\n",
    "        print(int(a)//int(b))\n",
    "    except ZeroDivisionError as e:\n",
    "        print(\"Error Code:\",e);\n",
    "    except ValueError as v:\n",
    "        print(\"Error Code:\",v);"
   ]
  },
  {
   "cell_type": "code",
   "execution_count": null,
   "id": "f434221f",
   "metadata": {},
   "outputs": [],
   "source": []
  },
  {
   "cell_type": "code",
   "execution_count": null,
   "id": "b8e34923",
   "metadata": {},
   "outputs": [],
   "source": []
  }
 ],
 "metadata": {
  "kernelspec": {
   "display_name": "Python 3 (ipykernel)",
   "language": "python",
   "name": "python3"
  },
  "language_info": {
   "codemirror_mode": {
    "name": "ipython",
    "version": 3
   },
   "file_extension": ".py",
   "mimetype": "text/x-python",
   "name": "python",
   "nbconvert_exporter": "python",
   "pygments_lexer": "ipython3",
   "version": "3.8.8"
  }
 },
 "nbformat": 4,
 "nbformat_minor": 5
}
